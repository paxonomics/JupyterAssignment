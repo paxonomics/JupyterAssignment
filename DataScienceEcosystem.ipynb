{
 "cells": [
  {
   "cell_type": "markdown",
   "id": "bf3aba43-fac4-4176-8ef7-fc41236f9d08",
   "metadata": {},
   "source": [
    "# Data Science Tools and Ecosystem"
   ]
  },
  {
   "cell_type": "markdown",
   "id": "c6a7f74e-79bb-4aae-b2e3-ea4e3e65250b",
   "metadata": {},
   "source": [
    "## Author\n",
    "Joaquín Mercado Sapiaín"
   ]
  },
  {
   "cell_type": "markdown",
   "id": "247b1870-be6e-48eb-9863-9f2ec8a10536",
   "metadata": {},
   "source": [
    "In this notebook, Data Science Tools and Ecosystem are summarized"
   ]
  },
  {
   "cell_type": "markdown",
   "id": "c5d42a3f-e30e-4bda-b0ae-6e5ae894d997",
   "metadata": {},
   "source": [
    "**Objectives:**\n",
    "- List popular languages\n",
    "- List some development environments\n",
    "- Practice formatting in markdown mode\n",
    "- List some popular data science libraries\n",
    "- Refresh some basic operations in code mode"
   ]
  },
  {
   "cell_type": "markdown",
   "id": "0c4be2f9-958c-4aba-8b7e-ba0cc30915ad",
   "metadata": {},
   "source": [
    "Some of the popular languages that Data Scientists use are:\n",
    "1. SQL\n",
    "2. Python\n",
    "3. R\n",
    "4. Java"
   ]
  },
  {
   "cell_type": "markdown",
   "id": "defcb6c7-4ea2-4e0f-9fbe-210175b0ab3d",
   "metadata": {},
   "source": [
    "Some of the commonly used libraries used by Data Scientists include:\n",
    "1. Pandas\n",
    "2. NumPy\n",
    "3. MatplotLib\n",
    "4. Tensorflow"
   ]
  },
  {
   "cell_type": "markdown",
   "id": "f3b89bdc-e22c-4b50-b85b-5b1f7ed65039",
   "metadata": {},
   "source": [
    "|Data Science Tools|\n",
    "|----|\n",
    "|R Studio|\n",
    "|Jupyter Lab|\n",
    "|Gitlab|\n",
    "|Atom|"
   ]
  },
  {
   "cell_type": "markdown",
   "id": "ea108a56-8da0-4faf-a596-d49849069913",
   "metadata": {},
   "source": [
    "### Below are a few examples of evaluating arithmetic expressions in Python"
   ]
  },
  {
   "cell_type": "markdown",
   "id": "c57cce6c-adac-423f-9558-4f34de68ab87",
   "metadata": {},
   "source": [
    "This a simple arithmetic expression to mutiply then add integers"
   ]
  },
  {
   "cell_type": "code",
   "execution_count": 2,
   "id": "c1f0de1d-c927-4e30-84a5-9904d1e7621f",
   "metadata": {},
   "outputs": [
    {
     "data": {
      "text/plain": [
       "17"
      ]
     },
     "execution_count": 2,
     "metadata": {},
     "output_type": "execute_result"
    }
   ],
   "source": [
    "(3*4)+5"
   ]
  },
  {
   "cell_type": "markdown",
   "id": "d52d2325-c0f6-465a-9b5d-6a95688bad2d",
   "metadata": {},
   "source": [
    "This will convert 200 minutes to hours by diving by 60"
   ]
  },
  {
   "cell_type": "code",
   "execution_count": 3,
   "id": "2dae1ea3-7456-4e1a-9537-b302a8331b0b",
   "metadata": {},
   "outputs": [
    {
     "data": {
      "text/plain": [
       "3.3333333333333335"
      ]
     },
     "execution_count": 3,
     "metadata": {},
     "output_type": "execute_result"
    }
   ],
   "source": [
    "20/6"
   ]
  }
 ],
 "metadata": {
  "kernelspec": {
   "display_name": "Python",
   "language": "python",
   "name": "conda-env-python-py"
  },
  "language_info": {
   "codemirror_mode": {
    "name": "ipython",
    "version": 3
   },
   "file_extension": ".py",
   "mimetype": "text/x-python",
   "name": "python",
   "nbconvert_exporter": "python",
   "pygments_lexer": "ipython3",
   "version": "3.7.12"
  }
 },
 "nbformat": 4,
 "nbformat_minor": 5
}
