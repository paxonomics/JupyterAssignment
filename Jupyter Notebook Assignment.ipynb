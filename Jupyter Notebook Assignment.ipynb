{
 "cells": [
  {
   "cell_type": "markdown",
   "metadata": {
    "collapsed": true
   },
   "source": [
    "# My Jupyter Notebook on IBM Watson Studio"
   ]
  },
  {
   "cell_type": "markdown",
   "metadata": {},
   "source": [
    "**Joaquín Mercado Sapiaín**"
   ]
  },
  {
   "cell_type": "markdown",
   "metadata": {},
   "source": [
    "25% Data Scientist"
   ]
  },
  {
   "cell_type": "markdown",
   "metadata": {},
   "source": [
    "*I´ve always been interested in data-driven decision making, and data science will give me the right tools to use data to inform portfolio investments*"
   ]
  },
  {
   "cell_type": "markdown",
   "metadata": {},
   "source": [
    "### This is a basic mathematical operation *(no decimal points unfortunately)*"
   ]
  },
  {
   "cell_type": "code",
   "execution_count": 11,
   "metadata": {},
   "outputs": [
    {
     "data": {
      "text/plain": [
       "173756"
      ]
     },
     "execution_count": 11,
     "metadata": {},
     "output_type": "execute_result"
    }
   ],
   "source": [
    "3949*44"
   ]
  },
  {
   "cell_type": "markdown",
   "metadata": {},
   "source": [
    "| Brand | Year | Inventory |\n",
    "| ----- | ----- | -----|\n",
    "| Ion | 2023 | Y |\n",
    "| Duotone | 2023 | N |\n",
    "| North | 2022 | Y |\n",
    "\n",
    "~~Duotone out of stock~~\n",
    "\n",
    "- Alpha\n",
    "- Beta\n",
    "- Delta\n",
    "- Gamma\n",
    "\n",
    "1. alpha\n",
    "2. beta\n",
    "3. delta\n",
    "4. gamma"
   ]
  }
 ],
 "metadata": {
  "kernelspec": {
   "display_name": "Python 3.10",
   "language": "python",
   "name": "python3"
  },
  "language_info": {
   "codemirror_mode": {
    "name": "ipython",
    "version": 3
   },
   "file_extension": ".py",
   "mimetype": "text/x-python",
   "name": "python",
   "nbconvert_exporter": "python",
   "pygments_lexer": "ipython3",
   "version": "3.10.6"
  }
 },
 "nbformat": 4,
 "nbformat_minor": 1
}
